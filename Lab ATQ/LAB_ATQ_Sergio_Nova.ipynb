{
  "nbformat": 4,
  "nbformat_minor": 0,
  "metadata": {
    "colab": {
      "provenance": []
    },
    "kernelspec": {
      "name": "python3",
      "display_name": "Python 3"
    },
    "language_info": {
      "name": "python"
    }
  },
  "cells": [
    {
      "cell_type": "markdown",
      "source": [
        "# **Explicación de las Variables Agregadas**\n",
        "Se incluyeron variables que mejoran la predicción de tendencias en el mercado:\n",
        "\n",
        "**Momentum**: Evalúa la tasa de cambio de precios, útil para detectar tendencias alcistas o bajistas.\n",
        "\n",
        "**MACD Signal**: Indicador clave en análisis técnico que ayuda a identificar la dirección y la fuerza de una tendencia.\n",
        "\n",
        "**Risk Factor**: Medida de volatilidad basada en el True Range, esencial para evaluar el riesgo del activo.\n",
        "\n",
        "**Stochastic D**: Proporciona información sobre el momentum del precio en relación con su rango en un período determinado.\n",
        "\n",
        "**Relative Strength Index (RSI)**: Indica si un activo está sobrecomprado o sobrevendido.\n",
        "\n",
        "**Log Price**: Permite normalizar los precios para evitar problemas de escalabilidad.\n",
        "\n",
        "**Volume Trend (OBV)**: Relaciona el volumen con los cambios de precio, útil para confirmar tendencias.\n",
        "\n",
        "**Average True Range (ATR)**: Determina la volatilidad general del mercado."
      ],
      "metadata": {
        "id": "sSve_TOm8WI6"
      }
    },
    {
      "cell_type": "code",
      "source": [
        "###DEBUG###\n",
        "\n",
        "! pip install git+https://github.com/quantiacs/toolbox.git 2>/dev/null\n",
        "\n",
        "# decrease height\n",
        "from IPython.display import Javascript\n",
        "display(Javascript('google.colab.output.setIframeHeight(0, true, {maxHeight: 100})'))"
      ],
      "metadata": {
        "colab": {
          "base_uri": "https://localhost:8080/",
          "height": 100
        },
        "id": "MhJCWE-wDpGd",
        "outputId": "25c57a55-6cf1-4e40-b68c-a1190cc2342f"
      },
      "execution_count": 1,
      "outputs": [
        {
          "output_type": "stream",
          "name": "stdout",
          "text": [
            "Collecting git+https://github.com/quantiacs/toolbox.git\n",
            "  Cloning https://github.com/quantiacs/toolbox.git to /tmp/pip-req-build-4j63g9uu\n",
            "  Resolved https://github.com/quantiacs/toolbox.git to commit a1e6351446cd936532af185fb519ef92f5b1ac6d\n",
            "  Preparing metadata (setup.py) ... \u001b[?25l\u001b[?25hdone\n",
            "Requirement already satisfied: scipy>=1.14.0 in /usr/local/lib/python3.11/dist-packages (from qnt==0.0.409) (1.15.1)\n",
            "Requirement already satisfied: pandas==2.2.2 in /usr/local/lib/python3.11/dist-packages (from qnt==0.0.409) (2.2.2)\n",
            "Requirement already satisfied: xarray==2024.6.0 in /usr/local/lib/python3.11/dist-packages (from qnt==0.0.409) (2024.6.0)\n",
            "Requirement already satisfied: numpy<2.0.0 in /usr/local/lib/python3.11/dist-packages (from qnt==0.0.409) (1.26.4)\n",
            "Requirement already satisfied: tabulate>=0.9.0 in /usr/local/lib/python3.11/dist-packages (from qnt==0.0.409) (0.9.0)\n",
            "Requirement already satisfied: bottleneck>=1.3.7 in /usr/local/lib/python3.11/dist-packages (from qnt==0.0.409) (1.4.2)\n",
            "Requirement already satisfied: numba==0.60.0 in /usr/local/lib/python3.11/dist-packages (from qnt==0.0.409) (0.60.0)\n",
            "Requirement already satisfied: progressbar2<4,>=3.55 in /usr/local/lib/python3.11/dist-packages (from qnt==0.0.409) (3.55.0)\n",
            "Requirement already satisfied: cftime==1.6.4 in /usr/local/lib/python3.11/dist-packages (from qnt==0.0.409) (1.6.4)\n",
            "Requirement already satisfied: plotly==5.22.0 in /usr/local/lib/python3.11/dist-packages (from qnt==0.0.409) (5.22.0)\n",
            "Requirement already satisfied: matplotlib==3.9.0 in /usr/local/lib/python3.11/dist-packages (from qnt==0.0.409) (3.9.0)\n",
            "Requirement already satisfied: contourpy>=1.0.1 in /usr/local/lib/python3.11/dist-packages (from matplotlib==3.9.0->qnt==0.0.409) (1.3.1)\n",
            "Requirement already satisfied: cycler>=0.10 in /usr/local/lib/python3.11/dist-packages (from matplotlib==3.9.0->qnt==0.0.409) (0.12.1)\n",
            "Requirement already satisfied: fonttools>=4.22.0 in /usr/local/lib/python3.11/dist-packages (from matplotlib==3.9.0->qnt==0.0.409) (4.55.7)\n",
            "Requirement already satisfied: kiwisolver>=1.3.1 in /usr/local/lib/python3.11/dist-packages (from matplotlib==3.9.0->qnt==0.0.409) (1.4.8)\n",
            "Requirement already satisfied: packaging>=20.0 in /usr/local/lib/python3.11/dist-packages (from matplotlib==3.9.0->qnt==0.0.409) (24.2)\n",
            "Requirement already satisfied: pillow>=8 in /usr/local/lib/python3.11/dist-packages (from matplotlib==3.9.0->qnt==0.0.409) (11.1.0)\n",
            "Requirement already satisfied: pyparsing>=2.3.1 in /usr/local/lib/python3.11/dist-packages (from matplotlib==3.9.0->qnt==0.0.409) (3.2.1)\n",
            "Requirement already satisfied: python-dateutil>=2.7 in /usr/local/lib/python3.11/dist-packages (from matplotlib==3.9.0->qnt==0.0.409) (2.8.2)\n",
            "Requirement already satisfied: llvmlite<0.44,>=0.43.0dev0 in /usr/local/lib/python3.11/dist-packages (from numba==0.60.0->qnt==0.0.409) (0.43.0)\n",
            "Requirement already satisfied: pytz>=2020.1 in /usr/local/lib/python3.11/dist-packages (from pandas==2.2.2->qnt==0.0.409) (2024.2)\n",
            "Requirement already satisfied: tzdata>=2022.7 in /usr/local/lib/python3.11/dist-packages (from pandas==2.2.2->qnt==0.0.409) (2025.1)\n",
            "Requirement already satisfied: tenacity>=6.2.0 in /usr/local/lib/python3.11/dist-packages (from plotly==5.22.0->qnt==0.0.409) (9.0.0)\n",
            "Requirement already satisfied: python-utils>=2.3.0 in /usr/local/lib/python3.11/dist-packages (from progressbar2<4,>=3.55->qnt==0.0.409) (3.9.1)\n",
            "Requirement already satisfied: six in /usr/local/lib/python3.11/dist-packages (from progressbar2<4,>=3.55->qnt==0.0.409) (1.17.0)\n",
            "Requirement already satisfied: typing_extensions>3.10.0.2 in /usr/local/lib/python3.11/dist-packages (from python-utils>=2.3.0->progressbar2<4,>=3.55->qnt==0.0.409) (4.12.2)\n"
          ]
        },
        {
          "output_type": "display_data",
          "data": {
            "text/plain": [
              "<IPython.core.display.Javascript object>"
            ],
            "application/javascript": [
              "google.colab.output.setIframeHeight(0, true, {maxHeight: 100})"
            ]
          },
          "metadata": {}
        }
      ]
    },
    {
      "cell_type": "code",
      "source": [
        "###DEBUG###\n",
        "!wget http://prdownloads.sourceforge.net/ta-lib/ta-lib-0.4.0-src.tar.gz\n",
        "!tar -xzvf ta-lib-0.4.0-src.tar.gz\n",
        "%cd ta-lib\n",
        "!./configure --prefix=/usr\n",
        "! make\n",
        "!make install\n",
        "!pip install Ta-Lib\n",
        "\n",
        "# test import\n",
        "import talib\n",
        "\n",
        "# decrease height\n",
        "from IPython.display import Javascript\n",
        "display(Javascript('google.colab.output.setIframeHeight(0, true, {maxHeight: 100})'))"
      ],
      "metadata": {
        "id": "dZ9u8WiMEqGr"
      },
      "execution_count": null,
      "outputs": []
    },
    {
      "cell_type": "code",
      "source": [
        "###DEBUG###\n",
        "import os\n",
        "\n",
        "os.environ['API_KEY'] = \"f0b0a280-9f57-4c40-9dbd-9df958f2bbdc\"\n",
        "os.environ['NONINTERACT'] = 'True'"
      ],
      "metadata": {
        "id": "nmHOFT4rEtZE"
      },
      "execution_count": 3,
      "outputs": []
    },
    {
      "cell_type": "code",
      "source": [
        "import xgboost as xgb\n",
        "import qnt.data as qndata\n",
        "import qnt.ta as qnta\n",
        "import xarray as xr\n",
        "import numpy as np\n",
        "\n",
        "# =============================\n",
        "# Cargar Datos del Mercado\n",
        "# =============================\n",
        "stock_data = qndata.stocks.load_spx_data(min_date=\"2006-01-01\")\n",
        "\n",
        "# Filtrar solo los activos líquidos\n",
        "is_liquid = stock_data.sel(field='is_liquid')\n",
        "stock_data = stock_data.where(is_liquid, drop=True)\n",
        "\n",
        "# =============================\n",
        "# Construcción de Indicadores\n",
        "# =============================\n",
        "def construir_indicadores(datos_mercado):\n",
        "    \"\"\"Construcción de indicadores para la predicción del mercado.\"\"\"\n",
        "\n",
        "    # Momento del Mercado\n",
        "    momento = qnta.roc(qnta.lwma(datos_mercado.sel(field=\"close\"), 60), 1)\n",
        "    momento = momento.expand_dims(field=[\"momento\"])\n",
        "\n",
        "    # Señal MACD\n",
        "    macd_principal, macd_senal, macd_hist = qnta.macd(datos_mercado, 12, 26, 9)\n",
        "    macd_senal = macd_senal.sel(field=\"close\").expand_dims(field=[\"macd_senal\"])\n",
        "\n",
        "    # Factor de Riesgo\n",
        "    factor_riesgo = qnta.tr(datos_mercado.sel(field=\"high\"), datos_mercado.sel(field=\"low\"), datos_mercado.sel(field=\"close\"))\n",
        "    factor_riesgo = factor_riesgo / datos_mercado.sel(field=\"close\")\n",
        "    factor_riesgo = qnta.lwma(factor_riesgo, 14).expand_dims(field=[\"factor_riesgo\"])\n",
        "\n",
        "    # Estocástico D\n",
        "    estocastico_k, estocastico_d = qnta.stochastic(datos_mercado.sel(field=\"high\"), datos_mercado.sel(field=\"low\"), datos_mercado.sel(field=\"close\"), 14)\n",
        "    estocastico_d = estocastico_d.expand_dims(field=[\"estocastico_d\"])\n",
        "\n",
        "    # Índice de Fuerza Relativa (RSI)\n",
        "    fuerza_relativa = qnta.rsi(datos_mercado.sel(field=\"close\")).expand_dims(field=[\"rsi\"])\n",
        "\n",
        "    # Precio Logarítmico\n",
        "    precio_log = datos_mercado.sel(field=\"close\").ffill(\"time\").bfill(\"time\").fillna(0)\n",
        "    precio_log = np.log(precio_log).expand_dims(field=[\"precio_log\"])\n",
        "\n",
        "    # Tendencia de Volumen (OBV)\n",
        "    tendencia_volumen = qnta.obv(datos_mercado.sel(field=\"close\"), datos_mercado.sel(field=\"vol\")).expand_dims(field=[\"tendencia_volumen\"])\n",
        "\n",
        "    # Rango Promedio Verdadero (ATR)\n",
        "    rango_promedio_verdadero = qnta.atr(datos_mercado.sel(field=\"high\"), datos_mercado.sel(field=\"low\"), datos_mercado.sel(field=\"close\"), 14).expand_dims(field=[\"atr\"])\n",
        "\n",
        "    # Agrupar Indicadores\n",
        "    conjunto_caracteristicas = xr.concat([momento, macd_senal, factor_riesgo, estocastico_d, fuerza_relativa, precio_log, tendencia_volumen, rango_promedio_verdadero], dim=\"field\")\n",
        "    return conjunto_caracteristicas.transpose(\"time\", \"field\", \"asset\")"
      ],
      "metadata": {
        "id": "fbZRQZys-lT_"
      },
      "execution_count": null,
      "outputs": []
    },
    {
      "cell_type": "markdown",
      "source": [
        "# **Técnica de Machine Learning**\n",
        "\n",
        "Elegí XGBoost porque es un algoritmo de aprendizaje automático basado en árboles de decisión que ofrece un alto rendimiento y precisión en la clasificación de datos financieros. XGBoost maneja bien datos con características correlacionadas y es robusto frente al sobreajuste gracias a su regularización integrada. Además, es más eficiente en términos computacionales y se adapta mejor a conjuntos de datos grandes y ruidosos, lo que es clave en la predicción de mercados. Su capacidad de modelar relaciones no lineales y capturar patrones complejos lo hace superior a modelos más simples"
      ],
      "metadata": {
        "id": "MMIxYYzW-0jt"
      }
    },
    {
      "cell_type": "code",
      "source": [
        "# =============================\n",
        "# Creación del Modelo de ML\n",
        "# =============================\n",
        "def construir_modelo():\n",
        "    \"\"\"Modelo mejorado: XGBoost en lugar de MLPClassifier.\"\"\"\n",
        "    modelo = xgb.XGBClassifier(\n",
        "        n_estimators=100,\n",
        "        learning_rate=0.1,\n",
        "        max_depth=5,\n",
        "        subsample=0.8,\n",
        "        colsample_bytree=0.8,\n",
        "        random_state=42\n",
        "    )\n",
        "    return modelo"
      ],
      "metadata": {
        "id": "P4iIq3ij_I13"
      },
      "execution_count": 3,
      "outputs": []
    },
    {
      "cell_type": "markdown",
      "source": [
        "# **Se utiliza S&P 500 y los activos se filtraron solo a los activos líquidos**\n",
        "\n",
        "He decidido cargar todos los activos del S&P 500 para evitar problemas con activos no disponibles y usar todo el mercado disponible.\n",
        "\n",
        "\n"
      ],
      "metadata": {
        "id": "hPHAG4L-_NSI"
      }
    },
    {
      "cell_type": "code",
      "source": [
        "# =============================\n",
        "# Aplicar Construcción de Indicadores y Definir Clases\n",
        "# =============================\n",
        "indicadores = construir_indicadores(stock_data)\n",
        "target_classes = get_target_classes(stock_data)"
      ],
      "metadata": {
        "id": "HI2F-K2cAhbK"
      },
      "execution_count": null,
      "outputs": []
    },
    {
      "cell_type": "markdown",
      "source": [
        "Se aceptan cortos"
      ],
      "metadata": {
        "id": "W7fJzfhxAhDj"
      }
    },
    {
      "cell_type": "code",
      "source": [
        "# =============================\n",
        "# Definir Clases Objetivo\n",
        "# =============================\n",
        "def get_target_classes(data):\n",
        "    \"\"\"Define las clases objetivo para predicción de precios en largos y cortos.\"\"\"\n",
        "\n",
        "    price_current = data.sel(field=\"close\")\n",
        "    price_future  = qnta.shift(price_current, -1)\n",
        "\n",
        "    class_positive = 1  # Sube más de 0.1%\n",
        "    class_neutral = 0   # Fluctúa dentro de ±0.1%\n",
        "    class_negative = -1 # Baja más de 0.1%\n",
        "\n",
        "    target_price_up = xr.where(\n",
        "        price_future > price_current * 1.001, class_positive,\n",
        "        xr.where(price_future < price_current * 0.999, class_negative, class_neutral)\n",
        "    )\n",
        "\n",
        "    return target_price_up"
      ],
      "metadata": {
        "id": "ceM3AQKn_ZEQ"
      },
      "execution_count": 6,
      "outputs": []
    }
  ]
}